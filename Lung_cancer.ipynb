{
 "cells": [
  {
   "cell_type": "markdown",
   "metadata": {},
   "source": [
    "# Lung Cancer Dataset - EDA\n",
    "---"
   ]
  },
  {
   "cell_type": "markdown",
   "metadata": {},
   "source": [
    "Luis Angel Garcia (2230177)  \n",
    "Antonio Cardenas Jurado (2230433)  \n",
    "Juliana Del Toro ()  \n"
   ]
  },
  {
   "cell_type": "markdown",
   "metadata": {},
   "source": [
    "## Activate enviorment"
   ]
  },
  {
   "cell_type": "markdown",
   "metadata": {},
   "source": [
    "## Libraries\n"
   ]
  },
  {
   "cell_type": "code",
   "execution_count": 22,
   "metadata": {},
   "outputs": [],
   "source": [
    "import mysql.connector\n",
    "import pandas as pd\n",
    "import numpy as np\n",
    "import matplotlib.pyplot as plt\n",
    "import seaborn as sns"
   ]
  },
  {
   "cell_type": "markdown",
   "metadata": {},
   "source": [
    "## Mysql Config And Connection"
   ]
  },
  {
   "cell_type": "code",
   "execution_count": 23,
   "metadata": {},
   "outputs": [],
   "source": [
    "config = {\"host\":\"localhost\",\"port\":3306,\"user\": \"root\", \"password\":\"\",\"database\":\"lung_cancer\"}\n",
    "\n",
    "csv_file= './DATASET/lung_cancer_prediction_dataset.csv'\n",
    "\n",
    "conn = mysql.connector.connect(host=config[\"host\"],port=config[\"port\"], user=config[\"user\"], password=config[\"password\"])\n",
    "cursor= conn.cursor()"
   ]
  },
  {
   "cell_type": "markdown",
   "metadata": {},
   "source": [
    "## Database And Table Create "
   ]
  },
  {
   "cell_type": "code",
   "execution_count": 24,
   "metadata": {},
   "outputs": [],
   "source": [
    "cursor.execute(f\"CREATE DATABASE IF NOT EXISTS {config['database']}\")\n",
    "conn.database = config[\"database\"]"
   ]
  },
  {
   "cell_type": "markdown",
   "metadata": {},
   "source": [
    "## Dirt DATASET Load"
   ]
  },
  {
   "cell_type": "code",
   "execution_count": 25,
   "metadata": {},
   "outputs": [
    {
     "name": "stdout",
     "output_type": "stream",
     "text": [
      "La base de datos y tabla se ha creado con exito\n",
      "No es necesario volver a cargar los datos\n"
     ]
    }
   ],
   "source": [
    "cursor.execute(\"\"\" \n",
    "CREATE TABLE IF NOT EXISTS lung_cancer_dirty (\n",
    "    id INT AUTO_INCREMENT NOT NULL PRIMARY KEY,\n",
    "    Country VARCHAR(255),\n",
    "    Population_Size INT,\n",
    "    Age INT,\n",
    "    Gender VARCHAR(20),\n",
    "    Smoker VARCHAR(20),\n",
    "    Years_of_Smoking INT,\n",
    "    Cigarettes_per_Day INT,\n",
    "    Passive_Smoker VARCHAR(20),\n",
    "    Family_History VARCHAR(20),\n",
    "    Lung_Cancer_Diagnosis VARCHAR(20),\n",
    "    Cancer_Stage VARCHAR(20),\n",
    "    Survival_Years INT,\n",
    "    Adenocarcinoma_Type VARCHAR(20),\n",
    "    Air_Pollution_Exposure VARCHAR(20),\n",
    "    Occupational_Exposure VARCHAR(20),\n",
    "    Indoor_Pollution VARCHAR(20),\n",
    "    Healthcare_Access VARCHAR(20),\n",
    "    Early_Detection VARCHAR(20),\n",
    "    Treatment_Type VARCHAR(20),\n",
    "    Developed_or_Developing VARCHAR(20),\n",
    "    Annual_Lung_Cancer_Deaths INT,\n",
    "    Lung_Cancer_Prevalence_Rate FLOAT,\n",
    "    Mortality_Rate FLOAT);\n",
    "\"\"\")\n",
    "\n",
    "conn.commit()\n",
    "print (\"La base de datos y tabla se ha creado con exito\")\n",
    "\n",
    "df = pd.read_csv(csv_file)\n",
    "df = df.fillna(\"TEMP_NULL\") \n",
    "\n",
    "cursor.execute(\"SELECT COUNT(*) FROM lung_cancer_dirty\")\n",
    "resultado = cursor.fetchone()\n",
    "if resultado[0] == 0:\n",
    "    for _, row in df.iterrows():\n",
    "        cursor.execute(\"\"\"\n",
    "                   INSERT INTO lung_cancer_dirty (Country, Population_Size, Age,Gender, Smoker, Years_of_Smoking, Cigarettes_per_Day, Passive_Smoker, Family_History, Lung_Cancer_Diagnosis, Cancer_Stage, Survival_Years, Adenocarcinoma_Type, Air_Pollution_Exposure, Occupational_Exposure, Indoor_Pollution, Healthcare_Access, Early_Detection, Treatment_Type, Developed_or_Developing, Annual_Lung_Cancer_Deaths, Lung_Cancer_Prevalence_Rate, Mortality_Rate)\n",
    "                   VALUES (%s,%s,%s,%s,%s,%s,%s,%s,%s,%s,%s,%s,%s,%s,%s,%s,%s,%s,%s,%s,%s,%s,%s)\n",
    "                \"\"\", (row['Country'],row['Population_Size'],row['Age'],row['Gender'],row['Smoker'],row['Years_of_Smoking'],row['Cigarettes_per_Day'],row['Passive_Smoker'],row['Family_History'],row['Lung_Cancer_Diagnosis'],row['Cancer_Stage'],row['Survival_Years'],row['Adenocarcinoma_Type'],row['Air_Pollution_Exposure'],row['Occupational_Exposure'],row['Indoor_Pollution'],row['Healthcare_Access'],row['Early_Detection'],row['Treatment_Type'],row['Developed_or_Developing'],row['Annual_Lung_Cancer_Deaths'],row['Lung_Cancer_Prevalence_Rate'],row['Mortality_Rate']))\n",
    "    conn.commit()\n",
    "    print(\"Dato cargados correcctamente\")\n",
    "else:\n",
    "    conn.commit()\n",
    "    print(\"No es necesario volver a cargar los datos\")"
   ]
  },
  {
   "cell_type": "markdown",
   "metadata": {},
   "source": [
    "Se cambio los nulos por \"TEMP_NULL\" para poder realizar la carga de los datos"
   ]
  },
  {
   "cell_type": "markdown",
   "metadata": {},
   "source": [
    "## DATABASE Annalysis"
   ]
  },
  {
   "cell_type": "markdown",
   "metadata": {},
   "source": [
    "## Analisamos las primeras filas"
   ]
  },
  {
   "cell_type": "code",
   "execution_count": null,
   "metadata": {},
   "outputs": [],
   "source": [
    "print(\"\\nPrimeras filas del dataset:\")\n",
    "print(df.head())"
   ]
  },
  {
   "cell_type": "markdown",
   "metadata": {},
   "source": [
    "## Informacion general"
   ]
  },
  {
   "cell_type": "code",
   "execution_count": null,
   "metadata": {},
   "outputs": [],
   "source": [
    "print(\"\\nInformación del dataset:\")\n",
    "print(df.info())"
   ]
  },
  {
   "cell_type": "markdown",
   "metadata": {},
   "source": [
    "## Valores Nulos"
   ]
  },
  {
   "cell_type": "code",
   "execution_count": null,
   "metadata": {},
   "outputs": [],
   "source": [
    "nulos=(df == \"TEMP_NULL\").sum()\n",
    "print(f'Los nulos de cada columna son:', nulos )"
   ]
  },
  {
   "cell_type": "markdown",
   "metadata": {},
   "source": [
    "## Valores dupplicados"
   ]
  },
  {
   "cell_type": "code",
   "execution_count": 13,
   "metadata": {},
   "outputs": [
    {
     "name": "stdout",
     "output_type": "stream",
     "text": [
      "\n",
      "Cantidad de filas duplicadas: 0\n"
     ]
    }
   ],
   "source": [
    "print(\"\\nCantidad de filas duplicadas:\", df.duplicated().sum())"
   ]
  },
  {
   "cell_type": "markdown",
   "metadata": {},
   "source": [
    "## Valores Unicos"
   ]
  },
  {
   "cell_type": "code",
   "execution_count": null,
   "metadata": {},
   "outputs": [],
   "source": [
    "print(\"\\nValores únicos en la columna 'Gender':\", df['Gender'].unique())\n",
    "print(\"Valores únicos en la columna 'Smoker':\", df['Smoker'].unique())\n",
    "print(\"Valores únicos en la columna 'Passive_Smoker':\", df['Passive_Smoker'].unique())\n",
    "print(\"Valores únicos en la columna 'Family_History':\", df['Family_History'].unique())\n",
    "print(\"Valores únicos en la columna 'Lung_Cancer_Diagnosis':\", df['Lung_Cancer_Diagnosis'].unique())\n",
    "print(\"Valores únicos en la columna 'Cancer_Stage':\", df['Cancer_Stage'].unique())\n",
    "print(\"Valores únicos en la columna 'Adenocarcinoma_Type':\", df['Adenocarcinoma_Type'].unique())\n",
    "print(\"Valores únicos en la columna 'Air_pollution_exposure':\", df['Air_Pollution_Exposure'].unique())\n",
    "print(\"Valores únicos en la columna 'Occupational_Exposure':\", df['Occupational_Exposure'].unique())\n",
    "print(\"Valores únicos en la columna 'Indoor_pollution':\", df['Indoor_Pollution'].unique())\n",
    "print(\"Valores únicos en la columna 'Healtcare_Access':\", df['Healthcare_Access'].unique())\n",
    "print(\"Valores únicos en la columna 'Early_Detection':\", df['Early_Detection'].unique())\n",
    "print(\"Valores únicos en la columna 'Developed_or_Developing':\", df['Developed_or_Developing'].unique())"
   ]
  },
  {
   "cell_type": "markdown",
   "metadata": {},
   "source": [
    "## Verificacion cigarrillos por dia"
   ]
  },
  {
   "cell_type": "code",
   "execution_count": null,
   "metadata": {},
   "outputs": [],
   "source": [
    "min_cigarettes = df[\"Cigarettes_per_Day\"].min()\n",
    "max_cigarettes = df[\"Cigarettes_per_Day\"].max()\n",
    "\n",
    "print(f\"\\nLos minimos cigarrillos al dia encontrados fueron: \",min_cigarettes)\n",
    "print(f\"Los maximos cigarrillos al dia encontrados fueron: \",max_cigarettes)\n",
    "\n",
    "smokers = (df[\"Cigarettes_per_Day\"] > 0).sum()\n",
    "print(f\"\\nNúmero de personas que fuman son fumadoras: {smokers}\")\n",
    "\n",
    "df_smokers = df[df[\"Cigarettes_per_Day\"]>0]\n",
    "\n",
    "q1 = df_smokers[\"Cigarettes_per_Day\"].quantile(0.25)\n",
    "q3 = df_smokers[\"Cigarettes_per_Day\"].quantile(0.75)\n",
    "iqr=q3-q1\n",
    "\n",
    "limit_inf = max(1, q1- 1.5 * iqr)\n",
    "limit_sup = q3 + 1.5 * iqr\n",
    "\n",
    "atipic_value= df_smokers[(df_smokers[\"Cigarettes_per_Day\"] < limit_inf) | (df_smokers[\"Cigarettes_per_Day\"]>limit_sup)]\n",
    "\n",
    "print(f\"\\nQ1: {q1}, Q3: {q3}, IQR: {iqr}\")\n",
    "print(f\"Límite inferior ajustado: {limit_inf}\")\n",
    "print(f\"Límite superior: {limit_sup}\")\n",
    "print(f\"Número de valores atípicos: {atipic_value.shape[0]}\")\n"
   ]
  },
  {
   "cell_type": "markdown",
   "metadata": {},
   "source": [
    "Los valores Maximos de cigarrillos por dia pueden son un poco altos, se decidio conocer el limte superiore"
   ]
  },
  {
   "cell_type": "markdown",
   "metadata": {},
   "source": [
    "## Verificacion de edad"
   ]
  },
  {
   "cell_type": "code",
   "execution_count": 16,
   "metadata": {},
   "outputs": [
    {
     "name": "stdout",
     "output_type": "stream",
     "text": [
      "\n",
      "La edad maxima es:  85\n",
      "La edad minima es:  20\n"
     ]
    }
   ],
   "source": [
    "age_max = df[\"Age\"].max()\n",
    "age_min = df[\"Age\"].min()\n",
    "print(f\"\\nLa edad maxima es: \", age_max)\n",
    "print(f\"La edad minima es: \", age_min)"
   ]
  },
  {
   "cell_type": "markdown",
   "metadata": {},
   "source": [
    "## Selecion de columnas"
   ]
  },
  {
   "cell_type": "code",
   "execution_count": null,
   "metadata": {},
   "outputs": [],
   "source": [
    "query = \"SELECT * FROM lung_cancer_dirty\"\n",
    "\n",
    "df = pd.read_sql(query, conn)\n",
    "\n",
    "df_selected = df[[\"id\",\"Age\",\"Country\",\"Lung_Cancer_Prevalence_Rate\",\"Smoker\",\"Years_of_Smoking\",\"Cigarettes_per_Day\",\"Passive_Smoker\",\"Lung_Cancer_Diagnosis\",\"Healthcare_Access\",\"Early_Detection\",\"Survival_Years\",\"Developed_or_Developing\",\"Mortality_Rate\",\"Annual_Lung_Cancer_Deaths\",\"Air_Pollution_Exposure\",\"Occupational_Exposure\",\"Indoor_Pollution\",\"Family_History\",\"Treatment_Type\",\"Cancer_Stage\"]]\n",
    "print(df_selected.info())"
   ]
  },
  {
   "cell_type": "markdown",
   "metadata": {},
   "source": [
    "## Limpieza de nulos"
   ]
  },
  {
   "cell_type": "code",
   "execution_count": null,
   "metadata": {},
   "outputs": [],
   "source": [
    "nulos=(df_selected == \"TEMP_NULL\").sum()\n",
    "print(f'Antes los nulos de cada columna son:', nulos )\n",
    "\n",
    "df_selected.replace(\"TEMP_NULL\", None, inplace=True)\n",
    "\n",
    "nulos=(df_selected == \"TEMP_NULL\").sum()\n",
    "print(f'Despues los nulos de cada columna son:', nulos )"
   ]
  },
  {
   "cell_type": "markdown",
   "metadata": {},
   "source": [
    "## Convercion a boleanos"
   ]
  },
  {
   "cell_type": "code",
   "execution_count": null,
   "metadata": {},
   "outputs": [],
   "source": [
    "df_selected[\"Early_Detection\"] = df_selected[\"Early_Detection\"].map({\"Yes\": True, \"No\": False})\n",
    "print(df)"
   ]
  },
  {
   "cell_type": "markdown",
   "metadata": {},
   "source": [
    "## Carga de dataset limpio a MySQL"
   ]
  },
  {
   "cell_type": "code",
   "execution_count": null,
   "metadata": {},
   "outputs": [
    {
     "name": "stdout",
     "output_type": "stream",
     "text": [
      "La Tabla de los datos limpios se creo con exito\n"
     ]
    }
   ],
   "source": [
    "cursor.execute(\"\"\" \n",
    "CREATE TABLE IF NOT EXISTS lung_cancer_cleaned (\n",
    "               \"id\",\n",
    "               \"Age\",\n",
    "               \"Country\",\n",
    "               \"Lung_Cancer_Prevalence_Rate\",\n",
    "               \"Smoker\",\"Years_of_Smoking\",\n",
    "               \"Cigarettes_per_Day\",\"Passive_Smoker\",\n",
    "               \"Lung_Cancer_Diagnosis\",\n",
    "               \"Healthcare_Access\",\n",
    "               \"Early_Detection\",\n",
    "               \"Survival_Years\",\n",
    "               \"Developed_or_Developing\",\n",
    "               \"Mortality_Rate\",\n",
    "               \"Annual_Lung_Cancer_Deaths\",\n",
    "               \"Air_Pollution_Exposure\",\n",
    "               \"Occupational_Exposure\",\n",
    "               \"Indoor_Pollution\",\n",
    "               \"Family_History\",\n",
    "               \"Treatment_Type\",\n",
    "               \"Cancer_Stage\");\n",
    "\"\"\")\n",
    "\n",
    "conn.commit()\n",
    "print (\"La Tabla de los datos limpios se creo con exito\")"
   ]
  },
  {
   "cell_type": "markdown",
   "metadata": {},
   "source": [
    "## Vizualizaciones "
   ]
  },
  {
   "cell_type": "markdown",
   "metadata": {},
   "source": [
    "Casos positivos por pais"
   ]
  },
  {
   "cell_type": "code",
   "execution_count": null,
   "metadata": {},
   "outputs": [],
   "source": [
    "diagnostics_by_country = df_selected[df_selected[\"Lung_Cancer_Diagnosis\"] == \"Yes\"][\"Country\"].value_counts()\n",
    "\n",
    "plt.figure(figsize=(12, 6))\n",
    "diagnostics_by_country.plot(kind=\"bar\", color=\"skyblue\")\n",
    "plt.xlabel(\"País\")\n",
    "plt.ylabel(\"Número de Diagnósticos\")\n",
    "plt.title(\"Distribución de casos de cáncer de pulmón por país\")\n",
    "plt.xticks(rotation=90)\n",
    "plt.grid(axis=\"y\", linestyle=\"--\", alpha=0.7)\n",
    "plt.show()"
   ]
  },
  {
   "cell_type": "markdown",
   "metadata": {},
   "source": [
    "Casos positivos segun si fuman o no"
   ]
  },
  {
   "cell_type": "code",
   "execution_count": null,
   "metadata": {},
   "outputs": [],
   "source": [
    "smoking_diagnosis = df_selected.groupby(\"Smoker\")[\"Lung_Cancer_Diagnosis\"].value_counts().unstack()\n",
    "\n",
    "plt.figure(figsize=(8, 5))\n",
    "smoking_diagnosis.plot(kind=\"bar\", stacked=True, color=[\"lightcoral\", \"lightgreen\"])\n",
    "plt.xlabel(\"Fumador\")\n",
    "plt.ylabel(\"Número de Personas\")\n",
    "plt.title(\"Relación entre tabaquismo y diagnóstico de cáncer de pulmón\")\n",
    "plt.legend([\"No\", \"Sí\"], title=\"Diagnóstico de Cáncer\")\n",
    "plt.grid(axis=\"y\", linestyle=\"--\", alpha=0.7)\n",
    "plt.xticks(rotation=0)\n",
    "plt.show()\n"
   ]
  },
  {
   "cell_type": "markdown",
   "metadata": {},
   "source": [
    "dispersión entre años de tabaquismo y diagnóstico"
   ]
  },
  {
   "cell_type": "code",
   "execution_count": null,
   "metadata": {},
   "outputs": [],
   "source": [
    "plt.figure(figsize=(8, 5))\n",
    "sns.boxplot(x=df[\"Lung_Cancer_Diagnosis\"], y=df_selected[\"Years_of_Smoking\"], palette={\"No\": \"lightgreen\", \"Yes\": \"lightcoral\"})\n",
    "plt.xlabel(\"Diagnóstico de Cáncer de Pulmón\")\n",
    "plt.ylabel(\"Años de Tabaquismo\")\n",
    "plt.title(\"Relación entre años de tabaquismo y diagnóstico de cáncer\")\n",
    "plt.grid(axis=\"y\", linestyle=\"--\", alpha=0.7)\n",
    "plt.show()\n"
   ]
  },
  {
   "cell_type": "markdown",
   "metadata": {},
   "source": [
    "## Revisar"
   ]
  },
  {
   "cell_type": "code",
   "execution_count": null,
   "metadata": {},
   "outputs": [],
   "source": [
    "healthcare_detection = df_selected.groupby(\"Healthcare_Access\")[\"Early_Detection\"].value_counts().unstack()\n",
    "\n",
    "healthcare_detection_norm = healthcare_detection.div(healthcare_detection.sum(axis=1), axis=0)\n",
    "\n",
    "plt.figure(figsize=(8, 5))\n",
    "healthcare_detection_norm.plot(kind=\"bar\", stacked=True, color=[\"lightblue\", \"darkorange\"], alpha=0.85)\n",
    "\n",
    "plt.xlabel(\"Acceso a la Salud\")\n",
    "plt.ylabel(\"Proporción de Pacientes\")\n",
    "plt.title(\"Acceso a la salud y detección temprana del cáncer de pulmón\")\n",
    "plt.legend([\"No Detectado Temprano\", \"Detectado Temprano\"], title=\"Detección Temprana\")\n",
    "plt.grid(axis=\"y\", linestyle=\"--\", alpha=0.7)\n",
    "plt.xticks(rotation=0)\n",
    "\n",
    "for i, (no_det, si_det) in enumerate(zip(healthcare_detection_norm[False], healthcare_detection_norm[True])):\n",
    "    plt.text(i, no_det / 2, f\"{no_det:.1%}\", ha=\"center\", fontsize=10, color=\"black\", weight=\"bold\")\n",
    "    plt.text(i, no_det + si_det / 2, f\"{si_det:.1%}\", ha=\"center\", fontsize=10, color=\"white\", weight=\"bold\")\n",
    "\n",
    "plt.show()"
   ]
  },
  {
   "cell_type": "markdown",
   "metadata": {},
   "source": [
    "## Tasa de mortalidad segun la etapa del cancer"
   ]
  },
  {
   "cell_type": "code",
   "execution_count": null,
   "metadata": {},
   "outputs": [],
   "source": [
    "mortality_by_stage = df_selected.groupby(\"Cancer_Stage\")[\"Mortality_Rate\"].mean().sort_index()\n",
    "\n",
    "plt.figure(figsize=(8, 5))\n",
    "sns.barplot(x=mortality_by_stage.index, y=mortality_by_stage.values, palette=\"Reds_r\")\n",
    "\n",
    "plt.xlabel(\"Etapa del Cáncer\")\n",
    "plt.ylabel(\"Tasa Promedio de Mortalidad\")\n",
    "plt.title(\"Mortalidad según la etapa del cáncer\")\n",
    "plt.ylim(0, mortality_by_stage.max() * 1.1)\n",
    "plt.grid(axis=\"y\", linestyle=\"--\", alpha=0.7)\n",
    "\n",
    "\n",
    "for i, value in enumerate(mortality_by_stage.values):\n",
    "    plt.text(i, value + 0.02, f\"{value:.2f}\", ha=\"center\", fontsize=10, color=\"black\")"
   ]
  },
  {
   "cell_type": "markdown",
   "metadata": {},
   "source": [
    "## Diagnostico de cancer segun el nivel de contaminacion del aire"
   ]
  },
  {
   "cell_type": "code",
   "execution_count": 52,
   "metadata": {},
   "outputs": [
    {
     "data": {
      "text/plain": [
       "<Figure size 800x500 with 0 Axes>"
      ]
     },
     "metadata": {},
     "output_type": "display_data"
    },
    {
     "data": {
      "image/png": "[encoded data removed]",
      "text/plain": [
       "<Figure size 640x480 with 1 Axes>"
      ]
     },
     "metadata": {},
     "output_type": "display_data"
    }
   ],
   "source": [
    "pollution_diagnosis = df_selected.groupby(\"Air_Pollution_Exposure\")[\"Lung_Cancer_Diagnosis\"].value_counts().unstack()\n",
    "\n",
    "plt.figure(figsize=(8, 5))\n",
    "pollution_diagnosis.plot(kind=\"bar\", stacked=True, color=[\"lightcoral\", \"lightgreen\"])\n",
    "plt.xlabel(\"Nivel de Exposición a la Contaminación del Aire\")\n",
    "plt.ylabel(\"Número de Personas\")\n",
    "plt.title(\"Contaminación del aire y diagnóstico de cáncer de pulmón\")\n",
    "plt.legend([\"No\", \"Sí\"], title=\"Diagnóstico de Cáncer\")\n",
    "plt.grid(axis=\"y\", linestyle=\"--\", alpha=0.7)\n",
    "plt.xticks(rotation=0)\n",
    "plt.show()\n"
   ]
  },
  {
   "cell_type": "markdown",
   "metadata": {},
   "source": [
    "## Tasa de mortalidad entre paises desarrollados y en desarrollo"
   ]
  },
  {
   "cell_type": "code",
   "execution_count": 50,
   "metadata": {},
   "outputs": [
    {
     "name": "stderr",
     "output_type": "stream",
     "text": [
      "C:\\Users\\Luis Garcia\\AppData\\Local\\Temp\\ipykernel_20436\\208216223.py:7: FutureWarning: \n",
      "\n",
      "Passing `palette` without assigning `hue` is deprecated and will be removed in v0.14.0. Assign the `x` variable to `hue` and set `legend=False` for the same effect.\n",
      "\n",
      "  sns.barplot(x=mortality_by_dev_status.index, y=mortality_by_dev_status.values, palette=[\"blue\", \"orange\"], alpha=0.85)\n"
     ]
    },
    {
     "data": {
      "image/png": "[encoded data removed]",
      "text/plain": [
       "<Figure size 600x500 with 1 Axes>"
      ]
     },
     "metadata": {},
     "output_type": "display_data"
    }
   ],
   "source": [
    "developed_countries = [\"USA\", \"Canada\", \"Germany\", \"UK\", \"France\", \"Australia\", \"Japan\"]\n",
    "df[\"Development_Status\"] = df[\"Country\"].apply(lambda x: \"Desarrollado\" if x in developed_countries else \"En Desarrollo\")\n",
    "\n",
    "mortality_by_dev_status = df.groupby(\"Development_Status\")[\"Mortality_Rate\"].mean()\n",
    "\n",
    "plt.figure(figsize=(6, 5))\n",
    "sns.barplot(x=mortality_by_dev_status.index, y=mortality_by_dev_status.values, palette=[\"blue\", \"orange\"], alpha=0.85)\n",
    "\n",
    "plt.xlabel(\"Estado de Desarrollo del País\")\n",
    "plt.ylabel(\"Tasa Promedio de Mortalidad\")\n",
    "plt.title(\"Comparación de la Tasa de Mortalidad entre Países Desarrollados y en Desarrollo\")\n",
    "plt.ylim(0, mortality_by_dev_status.max() * 1.1) \n",
    "plt.grid(axis=\"y\", linestyle=\"--\", alpha=0.7)\n",
    "plt.xticks(rotation=0)\n",
    "\n",
    "for i, value in enumerate(mortality_by_dev_status.values):\n",
    "    plt.text(i, value + 0.02, f\"{value:.2f}\", ha=\"center\", fontsize=10, color=\"black\")\n",
    "\n",
    "plt.show()"
   ]
  },
  {
   "cell_type": "markdown",
   "metadata": {},
   "source": [
    "## Cerramos conexion"
   ]
  },
  {
   "cell_type": "code",
   "execution_count": 17,
   "metadata": {},
   "outputs": [],
   "source": [
    "cursor.close()\n",
    "conn.close()"
   ]
  }
 ],
 "metadata": {
  "kernelspec": {
   "display_name": "mi_env",
   "language": "python",
   "name": "python3"
  },
  "language_info": {
   "codemirror_mode": {
    "name": "ipython",
    "version": 3
   },
   "file_extension": ".py",
   "mimetype": "text/x-python",
   "name": "python",
   "nbconvert_exporter": "python",
   "pygments_lexer": "ipython3",
   "version": "3.12.9"
  }
 },
 "nbformat": 4,
 "nbformat_minor": 2
}
